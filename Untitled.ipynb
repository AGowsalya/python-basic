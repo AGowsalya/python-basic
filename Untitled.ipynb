{
 "cells": [
  {
   "cell_type": "code",
   "execution_count": 1,
   "id": "643ecb8f-c77c-44f1-ba3f-d40355404737",
   "metadata": {},
   "outputs": [
    {
     "name": "stdout",
     "output_type": "stream",
     "text": [
      "Hi\n"
     ]
    }
   ],
   "source": [
    "print(\"Hi\")"
   ]
  },
  {
   "cell_type": "code",
   "execution_count": 2,
   "id": "c46f3a83-8c27-4010-bb2f-febbf07cce57",
   "metadata": {},
   "outputs": [
    {
     "name": "stdout",
     "output_type": "stream",
     "text": [
      "10\n"
     ]
    }
   ],
   "source": [
    "a=10\n",
    "print(a)"
   ]
  },
  {
   "cell_type": "code",
   "execution_count": 3,
   "id": "3fbaa81e-cf78-4138-b202-6a51939f557e",
   "metadata": {},
   "outputs": [
    {
     "name": "stdout",
     "output_type": "stream",
     "text": [
      "10 20\n"
     ]
    }
   ],
   "source": [
    "a,b=10,20\n",
    "print(a,b)\n"
   ]
  },
  {
   "cell_type": "code",
   "execution_count": 4,
   "id": "8026041f-357d-4bdf-9e3a-566a625b659c",
   "metadata": {},
   "outputs": [
    {
     "name": "stdout",
     "output_type": "stream",
     "text": [
      "20 10\n"
     ]
    }
   ],
   "source": [
    "a,b=10,20\n",
    "a,b=b,a\n",
    "print(a,b)"
   ]
  },
  {
   "cell_type": "code",
   "execution_count": 7,
   "id": "197fe583-8ae0-4fad-b6ef-84d9a31f135e",
   "metadata": {},
   "outputs": [
    {
     "name": "stdout",
     "output_type": "stream",
     "text": [
      "['False', 'None', 'True', 'and', 'as', 'assert', 'async', 'await', 'break', 'class', 'continue', 'def', 'del', 'elif', 'else', 'except', 'finally', 'for', 'from', 'global', 'if', 'import', 'in', 'is', 'lambda', 'nonlocal', 'not', 'or', 'pass', 'raise', 'return', 'try', 'while', 'with', 'yield']\n"
     ]
    }
   ],
   "source": [
    "import keyword as k\n",
    "print(k.kwlist)"
   ]
  },
  {
   "cell_type": "code",
   "execution_count": 10,
   "id": "75a17030-0ed4-47a0-85a5-36124a2e2d8b",
   "metadata": {},
   "outputs": [
    {
     "name": "stdout",
     "output_type": "stream",
     "text": [
      "<class 'int'>\n",
      "<class 'float'>\n",
      "<class 'str'>\n",
      "<class 'complex'>\n"
     ]
    }
   ],
   "source": [
    "a=10\n",
    "print(type(a))\n",
    "b=3.5\n",
    "print(type(b))\n",
    "d='a'\n",
    "print(type(d))\n",
    "c=1j\n",
    "print(type(c))"
   ]
  },
  {
   "cell_type": "code",
   "execution_count": 11,
   "id": "dda0a262-2fdb-4f18-adbf-325d255588a9",
   "metadata": {},
   "outputs": [
    {
     "name": "stdout",
     "output_type": "stream",
     "text": [
      "<class 'list'>\n",
      "<class 'set'>\n",
      "<class 'tuple'>\n"
     ]
    }
   ],
   "source": [
    "a=[1,2,3,4,5]\n",
    "print(type(a))\n",
    "b={6,7,8,9,5}\n",
    "print(type(b))\n",
    "c=(3,5,6,7)\n",
    "print(type(c))"
   ]
  },
  {
   "cell_type": "code",
   "execution_count": 2,
   "id": "ebe63a10-7569-471d-b665-d75e24c5cdcf",
   "metadata": {},
   "outputs": [
    {
     "name": "stdin",
     "output_type": "stream",
     "text": [
      "Enter the num: 10\n",
      "Enter the num: 20\n"
     ]
    },
    {
     "name": "stdout",
     "output_type": "stream",
     "text": [
      "a+b : 30\n"
     ]
    }
   ],
   "source": [
    "a=int(input(\"Enter the num:\"))\n",
    "b=int(input(\"Enter the num:\"))\n",
    "print(\"a+b :\",a+b)\n"
   ]
  },
  {
   "cell_type": "code",
   "execution_count": 3,
   "id": "52eef18a-470c-43f9-a7f8-2acc03e2e49b",
   "metadata": {},
   "outputs": [
    {
     "name": "stdout",
     "output_type": "stream",
     "text": [
      "28\n"
     ]
    }
   ],
   "source": [
    "print(7<<2)"
   ]
  },
  {
   "cell_type": "code",
   "execution_count": 4,
   "id": "7acb9585-eb74-4fbe-8e10-3662e7c5a137",
   "metadata": {},
   "outputs": [
    {
     "name": "stdout",
     "output_type": "stream",
     "text": [
      "56\n"
     ]
    }
   ],
   "source": [
    "print(14<<2)"
   ]
  },
  {
   "cell_type": "code",
   "execution_count": 6,
   "id": "55fbed2e-0816-492d-9778-0f30ec5199ba",
   "metadata": {},
   "outputs": [
    {
     "name": "stdout",
     "output_type": "stream",
     "text": [
      "0\n"
     ]
    }
   ],
   "source": [
    "print((56&12)>>4)"
   ]
  },
  {
   "cell_type": "code",
   "execution_count": 7,
   "id": "9124b743-1599-43e5-8aeb-fb697fce34dd",
   "metadata": {},
   "outputs": [
    {
     "name": "stdout",
     "output_type": "stream",
     "text": [
      "-11\n"
     ]
    }
   ],
   "source": [
    "print(~10)"
   ]
  },
  {
   "cell_type": "code",
   "execution_count": 8,
   "id": "74991105-b6a9-4cea-a3eb-7f91f52121c4",
   "metadata": {},
   "outputs": [
    {
     "name": "stdout",
     "output_type": "stream",
     "text": [
      "54\n"
     ]
    }
   ],
   "source": [
    "print(~-55)"
   ]
  },
  {
   "cell_type": "code",
   "execution_count": 9,
   "id": "51a289da-2c6f-4c69-b3d5-0010942c88e3",
   "metadata": {},
   "outputs": [
    {
     "name": "stdout",
     "output_type": "stream",
     "text": [
      "0\n"
     ]
    }
   ],
   "source": [
    "a=10\n",
    "b=32\n",
    "print((a&b)<<2)"
   ]
  },
  {
   "cell_type": "code",
   "execution_count": 1,
   "id": "0eb459a5-96e8-4b44-a21c-8c4c5c9cf697",
   "metadata": {},
   "outputs": [
    {
     "name": "stdin",
     "output_type": "stream",
     "text": [
      "Enter the age: 19\n"
     ]
    },
    {
     "name": "stdout",
     "output_type": "stream",
     "text": [
      "Nee periya aal thaan\n"
     ]
    }
   ],
   "source": [
    "a=int(input(\"Enter the age:\"))\n",
    "if a>18:\n",
    "    print(\"Nee periya aal thaan\")\n",
    "else:\n",
    "    print(\"Nee innum valaramum\")\n",
    "    "
   ]
  },
  {
   "cell_type": "code",
   "execution_count": 4,
   "id": "71ab79b8-2074-4db9-8c75-dc91d244427c",
   "metadata": {},
   "outputs": [
    {
     "name": "stdout",
     "output_type": "stream",
     "text": [
      "Hi There\n",
      "20\n"
     ]
    }
   ],
   "source": [
    "a=20\n",
    "if(a>10):\n",
    "    print(\"Hi There\")\n",
    "    b=20\n",
    "    print(b)\n"
   ]
  },
  {
   "cell_type": "code",
   "execution_count": 7,
   "id": "01da6549-e70e-4b69-83f0-2d22adf50b69",
   "metadata": {},
   "outputs": [
    {
     "name": "stdin",
     "output_type": "stream",
     "text": [
      "Enter the value: 35\n"
     ]
    },
    {
     "name": "stdout",
     "output_type": "stream",
     "text": [
      "35\n"
     ]
    }
   ],
   "source": [
    "a=int(input(\"Enter the value:\"))\n",
    "if(a>20):\n",
    "      print(a)"
   ]
  },
  {
   "cell_type": "code",
   "execution_count": 11,
   "id": "3efdc334-76cf-4c5e-adc6-c2efd4d846c1",
   "metadata": {},
   "outputs": [
    {
     "name": "stdin",
     "output_type": "stream",
     "text": [
      "Enter the a value: 57\n"
     ]
    },
    {
     "name": "stdout",
     "output_type": "stream",
     "text": [
      "grade B\n"
     ]
    }
   ],
   "source": [
    "a=int(input(\"Enter the a value:\"))\n",
    "if(a>=80):\n",
    "    print(\"grade A\")\n",
    "elif(a>=50 and a<=79 ):\n",
    "    print(\"grade B\")\n",
    "elif(a>35 and a<=29):\n",
    "    print(\"grade C\")\n",
    "else:\n",
    "    print(\"Fail\")\n",
    "          "
   ]
  },
  {
   "cell_type": "code",
   "execution_count": 14,
   "id": "2f18221b-5157-47be-b7a2-153c5ae4deab",
   "metadata": {},
   "outputs": [
    {
     "ename": "SyntaxError",
     "evalue": "invalid syntax. Maybe you meant '==' or ':=' instead of '='? (1263481495.py, line 4)",
     "output_type": "error",
     "traceback": [
      "  \u001b[36mCell\u001b[39m\u001b[36m \u001b[39m\u001b[32mIn[14]\u001b[39m\u001b[32m, line 4\u001b[39m\n\u001b[31m    \u001b[39m\u001b[31mif(Num=2000)\u001b[39m\n       ^\n\u001b[31mSyntaxError\u001b[39m\u001b[31m:\u001b[39m invalid syntax. Maybe you meant '==' or ':=' instead of '='?\n"
     ]
    }
   ],
   "source": [
    "a=int(input(\"Enter the a value:\"))\n",
    "Num=2000\n",
    "if(a>=18):\n",
    "    if(Num=2000)\n",
    "    print(\"win 1 lakh\")\n",
    "    else(Num=3000):\n",
    "    print(\"50000\")\n",
    "else:\n",
    "    print(\"Not eligible\")\n",
    "          "
   ]
  },
  {
   "cell_type": "code",
   "execution_count": null,
   "id": "203028ee-0be7-4564-9193-0f0fef7ca27b",
   "metadata": {},
   "outputs": [],
   "source": []
  }
 ],
 "metadata": {
  "kernelspec": {
   "display_name": "Python 3 (ipykernel)",
   "language": "python",
   "name": "python3"
  },
  "language_info": {
   "codemirror_mode": {
    "name": "ipython",
    "version": 3
   },
   "file_extension": ".py",
   "mimetype": "text/x-python",
   "name": "python",
   "nbconvert_exporter": "python",
   "pygments_lexer": "ipython3",
   "version": "3.13.3"
  }
 },
 "nbformat": 4,
 "nbformat_minor": 5
}
