{
 "cells": [
  {
   "cell_type": "code",
   "execution_count": null,
   "id": "2ee0480b-de25-4bbd-826b-f3bc2a443bbb",
   "metadata": {},
   "outputs": [],
   "source": [
    "#syntax\n",
    "while condition\n",
    "    //statement"
   ]
  },
  {
   "cell_type": "code",
   "execution_count": null,
   "id": "33085924-1c2c-4c2f-b132-4c9130a99ecb",
   "metadata": {},
   "outputs": [],
   "source": [
    "i=1\n",
    "while(i<=10):\n",
    "    if i%2==0:\n",
    "        print(\"Even\",i)\n",
    "    else:\n",
    "        print(\"odd\",i)\n",
    " i+=1"
   ]
  },
  {
   "cell_type": "code",
   "execution_count": null,
   "id": "fda2033f-27a9-4e5f-ac4d-a90e636d8196",
   "metadata": {},
   "outputs": [],
   "source": [
    "for i in range(1,10):\n",
    "    print(i)"
   ]
  },
  {
   "cell_type": "code",
   "execution_count": 11,
   "id": "b292983c-ecee-4a50-9f4d-1d2028531009",
   "metadata": {},
   "outputs": [
    {
     "name": "stdout",
     "output_type": "stream",
     "text": [
      "G\n",
      "o\n",
      "o\n",
      "d\n",
      "b\n",
      "a\n",
      "d\n",
      "u\n",
      "g\n",
      "l\n",
      "y\n"
     ]
    }
   ],
   "source": [
    "a=\"Goodbadugly\"\n",
    "for i in a:\n",
    "    print(i)"
   ]
  },
  {
   "cell_type": "code",
   "execution_count": 16,
   "id": "579d7709-acb3-4adb-ae57-00e8e57bb7d3",
   "metadata": {},
   "outputs": [
    {
     "ename": "NameError",
     "evalue": "name 'end' is not defined",
     "output_type": "error",
     "traceback": [
      "\u001b[31m---------------------------------------------------------------------------\u001b[39m",
      "\u001b[31mNameError\u001b[39m                                 Traceback (most recent call last)",
      "\u001b[36mCell\u001b[39m\u001b[36m \u001b[39m\u001b[32mIn[16]\u001b[39m\u001b[32m, line 3\u001b[39m\n\u001b[32m      1\u001b[39m a=\u001b[33m\"\u001b[39m\u001b[33mGoodbadugly\u001b[39m\u001b[33m\"\u001b[39m\n\u001b[32m      2\u001b[39m \u001b[38;5;28;01mfor\u001b[39;00m i \u001b[38;5;129;01min\u001b[39;00m a:\n\u001b[32m----> \u001b[39m\u001b[32m3\u001b[39m     \u001b[38;5;28mprint\u001b[39m(i,(\u001b[43mend\u001b[49m(\u001b[33m\"\u001b[39m\u001b[33m\"\u001b[39m)))\n",
      "\u001b[31mNameError\u001b[39m: name 'end' is not defined"
     ]
    }
   ],
   "source": [
    "a=\"Goodbadugly\"\n",
    "for i in a:\n",
    "    print(i,end(\"\"))"
   ]
  },
  {
   "cell_type": "code",
   "execution_count": 15,
   "id": "33e5147f-2892-4c4e-8da1-be685522e5d7",
   "metadata": {},
   "outputs": [
    {
     "name": "stdout",
     "output_type": "stream",
     "text": [
      "11\n",
      "G\n",
      "o\n",
      "o\n",
      "d\n",
      "b\n",
      "a\n",
      "d\n",
      "u\n",
      "g\n",
      "l\n",
      "y\n"
     ]
    }
   ],
   "source": [
    "a=\"Goodbadugly\"\n",
    "print(len(a))\n",
    "for i in a:\n",
    "    print(i)"
   ]
  },
  {
   "cell_type": "code",
   "execution_count": null,
   "id": "2ceb1f0c-c79d-4b49-923f-1f23df048d7c",
   "metadata": {},
   "outputs": [],
   "source": []
  }
 ],
 "metadata": {
  "kernelspec": {
   "display_name": "Python 3 (ipykernel)",
   "language": "python",
   "name": "python3"
  },
  "language_info": {
   "codemirror_mode": {
    "name": "ipython",
    "version": 3
   },
   "file_extension": ".py",
   "mimetype": "text/x-python",
   "name": "python",
   "nbconvert_exporter": "python",
   "pygments_lexer": "ipython3",
   "version": "3.13.3"
  }
 },
 "nbformat": 4,
 "nbformat_minor": 5
}
