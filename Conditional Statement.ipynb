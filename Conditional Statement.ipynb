{
 "cells": [
  {
   "cell_type": "code",
   "execution_count": 1,
   "id": "a6fbc4fd-0dbc-479b-ad2d-5a6a7482a118",
   "metadata": {},
   "outputs": [
    {
     "name": "stdin",
     "output_type": "stream",
     "text": [
      "Enter the age: 19\n"
     ]
    },
    {
     "name": "stdout",
     "output_type": "stream",
     "text": [
      "Nee periya aal thaan\n"
     ]
    }
   ],
   "source": [
    "a=int(input(\"Enter the age:\"))\n",
    "if a>18:\n",
    "    print(\"Nee periya aal thaan\")\n",
    "else:\n",
    "    print(\"Nee innum valaramum\")\n",
    "    "
   ]
  },
  {
   "cell_type": "code",
   "execution_count": 2,
   "id": "be77a929-0cac-44b1-a631-b4a0c54d8370",
   "metadata": {},
   "outputs": [
    {
     "name": "stdout",
     "output_type": "stream",
     "text": [
      "Hi There\n",
      "20\n"
     ]
    }
   ],
   "source": [
    "a=20\n",
    "if(a>10):\n",
    "    print(\"Hi There\")\n",
    "    b=20\n",
    "    print(b)\n"
   ]
  },
  {
   "cell_type": "code",
   "execution_count": 3,
   "id": "f0466bdc-631f-4447-bd9a-6462df5ed1ba",
   "metadata": {},
   "outputs": [
    {
     "name": "stdin",
     "output_type": "stream",
     "text": [
      "Enter the value: 35\n"
     ]
    },
    {
     "name": "stdout",
     "output_type": "stream",
     "text": [
      "35\n"
     ]
    }
   ],
   "source": [
    "a=int(input(\"Enter the value:\"))\n",
    "if(a>20):\n",
    "      print(a)"
   ]
  },
  {
   "cell_type": "code",
   "execution_count": 4,
   "id": "e1d5c604-a70b-4a2b-804c-1db819735edb",
   "metadata": {},
   "outputs": [
    {
     "name": "stdin",
     "output_type": "stream",
     "text": [
      "Enter the a value: 95\n"
     ]
    },
    {
     "name": "stdout",
     "output_type": "stream",
     "text": [
      "grade A\n"
     ]
    }
   ],
   "source": [
    "a=int(input(\"Enter the a value:\"))\n",
    "if(a>=80):\n",
    "    print(\"grade A\")\n",
    "elif(a>=50 and a<=79 ):\n",
    "    print(\"grade B\")\n",
    "elif(a>35 and a<=29):\n",
    "    print(\"grade C\")\n",
    "else:\n",
    "    print(\"Fail\")\n",
    "          "
   ]
  },
  {
   "cell_type": "code",
   "execution_count": null,
   "id": "15dc60c8-ed10-4887-adaa-af71392aed2b",
   "metadata": {},
   "outputs": [],
   "source": [
    "a=int(input(\"Enter the a value:\"))\n",
    "Num=2000\n",
    "if(a>=18):\n",
    "    if(Num=2000)\n",
    "    print(\"win 1 lakh\")\n",
    "    else(Num=3000):\n",
    "    print(\"50000\")\n",
    "else:\n",
    "    print(\"Not eligible\")"
   ]
  }
 ],
 "metadata": {
  "kernelspec": {
   "display_name": "Python 3 (ipykernel)",
   "language": "python",
   "name": "python3"
  },
  "language_info": {
   "codemirror_mode": {
    "name": "ipython",
    "version": 3
   },
   "file_extension": ".py",
   "mimetype": "text/x-python",
   "name": "python",
   "nbconvert_exporter": "python",
   "pygments_lexer": "ipython3",
   "version": "3.13.3"
  }
 },
 "nbformat": 4,
 "nbformat_minor": 5
}
